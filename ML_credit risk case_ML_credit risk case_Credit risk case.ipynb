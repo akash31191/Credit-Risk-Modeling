{
 "cells": [
  {
   "cell_type": "code",
   "execution_count": 67,
   "metadata": {},
   "outputs": [],
   "source": [
    "# Logistic regression using scikit-Learn \n",
    "import numpy as np\n",
    "import pandas as pd\n",
    "from sklearn.model_selection import train_test_split\n",
    "from sklearn.linear_model import LogisticRegression \n",
    "from sklearn.metrics import accuracy_score, auc, confusion_matrix, precision_score, recall_score, roc_curve,classification_report\n",
    "import matplotlib.pyplot as plt\n",
    "import seaborn as sns"
   ]
  },
  {
   "cell_type": "code",
   "execution_count": 68,
   "metadata": {},
   "outputs": [
    {
     "name": "stderr",
     "output_type": "stream",
     "text": [
      "C:\\Users\\shikh\\Anaconda3\\lib\\site-packages\\IPython\\core\\interactiveshell.py:3058: DtypeWarning: Columns (10,16) have mixed types. Specify dtype option on import or set low_memory=False.\n",
      "  interactivity=interactivity, compiler=compiler, result=result)\n"
     ]
    }
   ],
   "source": [
    "tr = pd.read_csv(\"train.csv\")"
   ]
  },
  {
   "cell_type": "code",
   "execution_count": 69,
   "metadata": {},
   "outputs": [],
   "source": [
    "tt = pd.read_csv(\"test.csv\")\n",
    "tt = tt.loc[:, ~tt.columns.str.contains('^Unnamed')]"
   ]
  },
  {
   "cell_type": "code",
   "execution_count": 70,
   "metadata": {},
   "outputs": [
    {
     "data": {
      "text/plain": [
       "0        195\n",
       "12248      6\n",
       "6827       6\n",
       "11791      5\n",
       "17871      5\n",
       "        ... \n",
       "9028       1\n",
       "24298      1\n",
       "3983       1\n",
       "36795      1\n",
       "20887      1\n",
       "Name: Maximum Open Credit, Length: 21033, dtype: int64"
      ]
     },
     "execution_count": 70,
     "metadata": {},
     "output_type": "execute_result"
    }
   ],
   "source": [
    "tt['Maximum Open Credit'].value_counts()\n"
   ]
  },
  {
   "cell_type": "code",
   "execution_count": 71,
   "metadata": {},
   "outputs": [
    {
     "name": "stdout",
     "output_type": "stream",
     "text": [
      "#VALUE!\n",
      "Maximum Open Credit\n"
     ]
    }
   ],
   "source": [
    "for i in tt.columns:\n",
    "    for j in tt[i]:\n",
    "        if '#VALUE!' in str(j):\n",
    "            print(j)\n",
    "            print(i)"
   ]
  },
  {
   "cell_type": "code",
   "execution_count": 72,
   "metadata": {},
   "outputs": [
    {
     "name": "stdout",
     "output_type": "stream",
     "text": [
      "#VALUE!\n",
      "Maximum Open Credit\n"
     ]
    }
   ],
   "source": [
    "for i in tr.columns:\n",
    "    for j in tr[i]:\n",
    "        if '#VALUE!' in str(j):\n",
    "            print(j)\n",
    "            print(i)"
   ]
  },
  {
   "cell_type": "code",
   "execution_count": 73,
   "metadata": {},
   "outputs": [
    {
     "name": "stdout",
     "output_type": "stream",
     "text": [
      "$1838.98\n",
      "$471.6\n",
      "$157.15\n",
      "$481.34\n",
      "$1051.41\n"
     ]
    }
   ],
   "source": [
    "for i in tr['Monthly Debt']:\n",
    "    if '$' in str(i):\n",
    "        print(i)\n",
    "        \n",
    "    "
   ]
  },
  {
   "cell_type": "code",
   "execution_count": 74,
   "metadata": {},
   "outputs": [],
   "source": [
    "trc = tr.copy()"
   ]
  },
  {
   "cell_type": "code",
   "execution_count": 75,
   "metadata": {},
   "outputs": [],
   "source": [
    "trc.set_index(['Customer ID','Loan ID'],inplace=True)"
   ]
  },
  {
   "cell_type": "code",
   "execution_count": 76,
   "metadata": {},
   "outputs": [],
   "source": [
    "trc['Loan Status'] = trc['Loan Status'].map({'Fully Paid':0,'Charged Off':1})"
   ]
  },
  {
   "cell_type": "code",
   "execution_count": 77,
   "metadata": {},
   "outputs": [
    {
     "data": {
      "text/plain": [
       "0.22747634354466004"
      ]
     },
     "execution_count": 77,
     "metadata": {},
     "output_type": "execute_result"
    }
   ],
   "source": [
    "17621/(17261+60202)"
   ]
  },
  {
   "cell_type": "code",
   "execution_count": 78,
   "metadata": {},
   "outputs": [],
   "source": [
    "trc['Credit Score'].fillna(trc['Credit Score'].median(),inplace=True)\n",
    "trc['Years in current job'].fillna(trc['Years in current job'].mode()[0],inplace=True)\n",
    "trc['Annual Income'].fillna(trc['Annual Income'].median(),inplace=True)\n",
    "trc['Months since last delinquent'].fillna(trc['Months since last delinquent'].median(),inplace=True)\n",
    "trc['Bankruptcies'].fillna(trc['Bankruptcies'].median(),inplace=True)\n",
    "trc['Tax Liens'].fillna(trc['Tax Liens'].median(),inplace=True)"
   ]
  },
  {
   "cell_type": "code",
   "execution_count": 79,
   "metadata": {},
   "outputs": [],
   "source": [
    "#from sklearn.preprocessing import OneHotEncoder\n",
    "#cat_encoder = OneHotEncoder()\n",
    "#housing_cat = trc[['Home Ownership']]"
   ]
  },
  {
   "cell_type": "code",
   "execution_count": 80,
   "metadata": {},
   "outputs": [],
   "source": [
    "trc['Monthly Debt'] = trc['Monthly Debt'].apply(lambda x:str(x))\n",
    "trc['Monthly Debt'] = trc['Monthly Debt'].apply(lambda x: x.strip('$'))\n",
    "trc['Monthly Debt'] = trc['Monthly Debt'].apply(lambda x:float(x))"
   ]
  },
  {
   "cell_type": "code",
   "execution_count": 81,
   "metadata": {},
   "outputs": [],
   "source": [
    "trc['Maximum Open Credit'] = trc['Maximum Open Credit'].apply(lambda x:str(x))\n",
    "trc['Maximum Open Credit'] = trc['Maximum Open Credit'].apply(lambda x: x.replace('#VALUE!','0'))\n",
    "trc['Maximum Open Credit'] = trc['Maximum Open Credit'].apply(lambda x:float(x))"
   ]
  },
  {
   "cell_type": "code",
   "execution_count": 82,
   "metadata": {},
   "outputs": [],
   "source": [
    "X = trc.drop(['Loan Status'],axis=1)\n",
    "y = trc['Loan Status']"
   ]
  },
  {
   "cell_type": "code",
   "execution_count": 83,
   "metadata": {},
   "outputs": [],
   "source": [
    "X = pd.get_dummies(X,columns=['Term','Home Ownership','Purpose','Years in current job'],drop_first=True)"
   ]
  },
  {
   "cell_type": "code",
   "execution_count": 84,
   "metadata": {},
   "outputs": [],
   "source": [
    "X_train, X_test, y_train, y_test = train_test_split(X,y,test_size=0.3, random_state=88, stratify=y)"
   ]
  },
  {
   "cell_type": "code",
   "execution_count": 85,
   "metadata": {},
   "outputs": [
    {
     "data": {
      "text/html": [
       "<div>\n",
       "<style scoped>\n",
       "    .dataframe tbody tr th:only-of-type {\n",
       "        vertical-align: middle;\n",
       "    }\n",
       "\n",
       "    .dataframe tbody tr th {\n",
       "        vertical-align: top;\n",
       "    }\n",
       "\n",
       "    .dataframe thead th {\n",
       "        text-align: right;\n",
       "    }\n",
       "</style>\n",
       "<table border=\"1\" class=\"dataframe\">\n",
       "  <thead>\n",
       "    <tr style=\"text-align: right;\">\n",
       "      <th></th>\n",
       "      <th></th>\n",
       "      <th>Current Loan Amount</th>\n",
       "      <th>Credit Score</th>\n",
       "      <th>Annual Income</th>\n",
       "      <th>Monthly Debt</th>\n",
       "      <th>Years of Credit History</th>\n",
       "      <th>Months since last delinquent</th>\n",
       "      <th>Number of Open Accounts</th>\n",
       "      <th>Number of Credit Problems</th>\n",
       "      <th>Current Credit Balance</th>\n",
       "      <th>Maximum Open Credit</th>\n",
       "      <th>...</th>\n",
       "      <th>Years in current job_10+ years</th>\n",
       "      <th>Years in current job_2 years</th>\n",
       "      <th>Years in current job_3 years</th>\n",
       "      <th>Years in current job_4 years</th>\n",
       "      <th>Years in current job_5 years</th>\n",
       "      <th>Years in current job_6 years</th>\n",
       "      <th>Years in current job_7 years</th>\n",
       "      <th>Years in current job_8 years</th>\n",
       "      <th>Years in current job_9 years</th>\n",
       "      <th>Years in current job_&lt; 1 year</th>\n",
       "    </tr>\n",
       "    <tr>\n",
       "      <th>Customer ID</th>\n",
       "      <th>Loan ID</th>\n",
       "      <th></th>\n",
       "      <th></th>\n",
       "      <th></th>\n",
       "      <th></th>\n",
       "      <th></th>\n",
       "      <th></th>\n",
       "      <th></th>\n",
       "      <th></th>\n",
       "      <th></th>\n",
       "      <th></th>\n",
       "      <th></th>\n",
       "      <th></th>\n",
       "      <th></th>\n",
       "      <th></th>\n",
       "      <th></th>\n",
       "      <th></th>\n",
       "      <th></th>\n",
       "      <th></th>\n",
       "      <th></th>\n",
       "      <th></th>\n",
       "      <th></th>\n",
       "    </tr>\n",
       "  </thead>\n",
       "  <tbody>\n",
       "    <tr>\n",
       "      <td>2366c3d2-ff61-4873-8877-b2d161ba42c3</td>\n",
       "      <td>a35ae387-f621-4d4e-b2f6-0f2256986ef9</td>\n",
       "      <td>10210</td>\n",
       "      <td>736.0</td>\n",
       "      <td>46140.0</td>\n",
       "      <td>803.60</td>\n",
       "      <td>13.2</td>\n",
       "      <td>21.0</td>\n",
       "      <td>5</td>\n",
       "      <td>1</td>\n",
       "      <td>5153</td>\n",
       "      <td>7952.0</td>\n",
       "      <td>...</td>\n",
       "      <td>1</td>\n",
       "      <td>0</td>\n",
       "      <td>0</td>\n",
       "      <td>0</td>\n",
       "      <td>0</td>\n",
       "      <td>0</td>\n",
       "      <td>0</td>\n",
       "      <td>0</td>\n",
       "      <td>0</td>\n",
       "      <td>0</td>\n",
       "    </tr>\n",
       "    <tr>\n",
       "      <td>37327f8f-7f1b-4aa3-a396-8ec470e95080</td>\n",
       "      <td>04e66244-d784-46d7-aaba-1f395a1f7001</td>\n",
       "      <td>14987</td>\n",
       "      <td>732.0</td>\n",
       "      <td>89919.0</td>\n",
       "      <td>756.82</td>\n",
       "      <td>12.7</td>\n",
       "      <td>32.0</td>\n",
       "      <td>14</td>\n",
       "      <td>0</td>\n",
       "      <td>20524</td>\n",
       "      <td>24288.0</td>\n",
       "      <td>...</td>\n",
       "      <td>1</td>\n",
       "      <td>0</td>\n",
       "      <td>0</td>\n",
       "      <td>0</td>\n",
       "      <td>0</td>\n",
       "      <td>0</td>\n",
       "      <td>0</td>\n",
       "      <td>0</td>\n",
       "      <td>0</td>\n",
       "      <td>0</td>\n",
       "    </tr>\n",
       "    <tr>\n",
       "      <td>e4f76d63-b693-475f-98bc-27e4fbfe1e91</td>\n",
       "      <td>ba1285d2-8fbb-4975-93cd-98c9dca67f54</td>\n",
       "      <td>11032</td>\n",
       "      <td>714.0</td>\n",
       "      <td>34471.0</td>\n",
       "      <td>522.81</td>\n",
       "      <td>10.5</td>\n",
       "      <td>32.0</td>\n",
       "      <td>10</td>\n",
       "      <td>0</td>\n",
       "      <td>13434</td>\n",
       "      <td>17699.0</td>\n",
       "      <td>...</td>\n",
       "      <td>0</td>\n",
       "      <td>0</td>\n",
       "      <td>0</td>\n",
       "      <td>0</td>\n",
       "      <td>0</td>\n",
       "      <td>0</td>\n",
       "      <td>1</td>\n",
       "      <td>0</td>\n",
       "      <td>0</td>\n",
       "      <td>0</td>\n",
       "    </tr>\n",
       "    <tr>\n",
       "      <td>ab620cb9-4f0a-4975-8349-790572d203d2</td>\n",
       "      <td>f9629141-a840-49a5-8f20-5999b98858e8</td>\n",
       "      <td>99999999</td>\n",
       "      <td>686.0</td>\n",
       "      <td>171623.0</td>\n",
       "      <td>68.65</td>\n",
       "      <td>12.9</td>\n",
       "      <td>41.0</td>\n",
       "      <td>3</td>\n",
       "      <td>0</td>\n",
       "      <td>2871</td>\n",
       "      <td>3433.0</td>\n",
       "      <td>...</td>\n",
       "      <td>0</td>\n",
       "      <td>0</td>\n",
       "      <td>1</td>\n",
       "      <td>0</td>\n",
       "      <td>0</td>\n",
       "      <td>0</td>\n",
       "      <td>0</td>\n",
       "      <td>0</td>\n",
       "      <td>0</td>\n",
       "      <td>0</td>\n",
       "    </tr>\n",
       "    <tr>\n",
       "      <td>a7f51244-67a9-41d8-9de3-a76f9762b699</td>\n",
       "      <td>ddd935d7-495b-4055-ad85-5ae7ee754d85</td>\n",
       "      <td>18278</td>\n",
       "      <td>724.0</td>\n",
       "      <td>61770.0</td>\n",
       "      <td>429.59</td>\n",
       "      <td>26.0</td>\n",
       "      <td>59.0</td>\n",
       "      <td>6</td>\n",
       "      <td>0</td>\n",
       "      <td>12275</td>\n",
       "      <td>67443.0</td>\n",
       "      <td>...</td>\n",
       "      <td>0</td>\n",
       "      <td>0</td>\n",
       "      <td>0</td>\n",
       "      <td>0</td>\n",
       "      <td>1</td>\n",
       "      <td>0</td>\n",
       "      <td>0</td>\n",
       "      <td>0</td>\n",
       "      <td>0</td>\n",
       "      <td>0</td>\n",
       "    </tr>\n",
       "  </tbody>\n",
       "</table>\n",
       "<p>5 rows × 41 columns</p>\n",
       "</div>"
      ],
      "text/plain": [
       "                                                                           Current Loan Amount  \\\n",
       "Customer ID                          Loan ID                                                     \n",
       "2366c3d2-ff61-4873-8877-b2d161ba42c3 a35ae387-f621-4d4e-b2f6-0f2256986ef9                10210   \n",
       "37327f8f-7f1b-4aa3-a396-8ec470e95080 04e66244-d784-46d7-aaba-1f395a1f7001                14987   \n",
       "e4f76d63-b693-475f-98bc-27e4fbfe1e91 ba1285d2-8fbb-4975-93cd-98c9dca67f54                11032   \n",
       "ab620cb9-4f0a-4975-8349-790572d203d2 f9629141-a840-49a5-8f20-5999b98858e8             99999999   \n",
       "a7f51244-67a9-41d8-9de3-a76f9762b699 ddd935d7-495b-4055-ad85-5ae7ee754d85                18278   \n",
       "\n",
       "                                                                           Credit Score  \\\n",
       "Customer ID                          Loan ID                                              \n",
       "2366c3d2-ff61-4873-8877-b2d161ba42c3 a35ae387-f621-4d4e-b2f6-0f2256986ef9         736.0   \n",
       "37327f8f-7f1b-4aa3-a396-8ec470e95080 04e66244-d784-46d7-aaba-1f395a1f7001         732.0   \n",
       "e4f76d63-b693-475f-98bc-27e4fbfe1e91 ba1285d2-8fbb-4975-93cd-98c9dca67f54         714.0   \n",
       "ab620cb9-4f0a-4975-8349-790572d203d2 f9629141-a840-49a5-8f20-5999b98858e8         686.0   \n",
       "a7f51244-67a9-41d8-9de3-a76f9762b699 ddd935d7-495b-4055-ad85-5ae7ee754d85         724.0   \n",
       "\n",
       "                                                                           Annual Income  \\\n",
       "Customer ID                          Loan ID                                               \n",
       "2366c3d2-ff61-4873-8877-b2d161ba42c3 a35ae387-f621-4d4e-b2f6-0f2256986ef9        46140.0   \n",
       "37327f8f-7f1b-4aa3-a396-8ec470e95080 04e66244-d784-46d7-aaba-1f395a1f7001        89919.0   \n",
       "e4f76d63-b693-475f-98bc-27e4fbfe1e91 ba1285d2-8fbb-4975-93cd-98c9dca67f54        34471.0   \n",
       "ab620cb9-4f0a-4975-8349-790572d203d2 f9629141-a840-49a5-8f20-5999b98858e8       171623.0   \n",
       "a7f51244-67a9-41d8-9de3-a76f9762b699 ddd935d7-495b-4055-ad85-5ae7ee754d85        61770.0   \n",
       "\n",
       "                                                                           Monthly Debt  \\\n",
       "Customer ID                          Loan ID                                              \n",
       "2366c3d2-ff61-4873-8877-b2d161ba42c3 a35ae387-f621-4d4e-b2f6-0f2256986ef9        803.60   \n",
       "37327f8f-7f1b-4aa3-a396-8ec470e95080 04e66244-d784-46d7-aaba-1f395a1f7001        756.82   \n",
       "e4f76d63-b693-475f-98bc-27e4fbfe1e91 ba1285d2-8fbb-4975-93cd-98c9dca67f54        522.81   \n",
       "ab620cb9-4f0a-4975-8349-790572d203d2 f9629141-a840-49a5-8f20-5999b98858e8         68.65   \n",
       "a7f51244-67a9-41d8-9de3-a76f9762b699 ddd935d7-495b-4055-ad85-5ae7ee754d85        429.59   \n",
       "\n",
       "                                                                           Years of Credit History  \\\n",
       "Customer ID                          Loan ID                                                         \n",
       "2366c3d2-ff61-4873-8877-b2d161ba42c3 a35ae387-f621-4d4e-b2f6-0f2256986ef9                     13.2   \n",
       "37327f8f-7f1b-4aa3-a396-8ec470e95080 04e66244-d784-46d7-aaba-1f395a1f7001                     12.7   \n",
       "e4f76d63-b693-475f-98bc-27e4fbfe1e91 ba1285d2-8fbb-4975-93cd-98c9dca67f54                     10.5   \n",
       "ab620cb9-4f0a-4975-8349-790572d203d2 f9629141-a840-49a5-8f20-5999b98858e8                     12.9   \n",
       "a7f51244-67a9-41d8-9de3-a76f9762b699 ddd935d7-495b-4055-ad85-5ae7ee754d85                     26.0   \n",
       "\n",
       "                                                                           Months since last delinquent  \\\n",
       "Customer ID                          Loan ID                                                              \n",
       "2366c3d2-ff61-4873-8877-b2d161ba42c3 a35ae387-f621-4d4e-b2f6-0f2256986ef9                          21.0   \n",
       "37327f8f-7f1b-4aa3-a396-8ec470e95080 04e66244-d784-46d7-aaba-1f395a1f7001                          32.0   \n",
       "e4f76d63-b693-475f-98bc-27e4fbfe1e91 ba1285d2-8fbb-4975-93cd-98c9dca67f54                          32.0   \n",
       "ab620cb9-4f0a-4975-8349-790572d203d2 f9629141-a840-49a5-8f20-5999b98858e8                          41.0   \n",
       "a7f51244-67a9-41d8-9de3-a76f9762b699 ddd935d7-495b-4055-ad85-5ae7ee754d85                          59.0   \n",
       "\n",
       "                                                                           Number of Open Accounts  \\\n",
       "Customer ID                          Loan ID                                                         \n",
       "2366c3d2-ff61-4873-8877-b2d161ba42c3 a35ae387-f621-4d4e-b2f6-0f2256986ef9                        5   \n",
       "37327f8f-7f1b-4aa3-a396-8ec470e95080 04e66244-d784-46d7-aaba-1f395a1f7001                       14   \n",
       "e4f76d63-b693-475f-98bc-27e4fbfe1e91 ba1285d2-8fbb-4975-93cd-98c9dca67f54                       10   \n",
       "ab620cb9-4f0a-4975-8349-790572d203d2 f9629141-a840-49a5-8f20-5999b98858e8                        3   \n",
       "a7f51244-67a9-41d8-9de3-a76f9762b699 ddd935d7-495b-4055-ad85-5ae7ee754d85                        6   \n",
       "\n",
       "                                                                           Number of Credit Problems  \\\n",
       "Customer ID                          Loan ID                                                           \n",
       "2366c3d2-ff61-4873-8877-b2d161ba42c3 a35ae387-f621-4d4e-b2f6-0f2256986ef9                          1   \n",
       "37327f8f-7f1b-4aa3-a396-8ec470e95080 04e66244-d784-46d7-aaba-1f395a1f7001                          0   \n",
       "e4f76d63-b693-475f-98bc-27e4fbfe1e91 ba1285d2-8fbb-4975-93cd-98c9dca67f54                          0   \n",
       "ab620cb9-4f0a-4975-8349-790572d203d2 f9629141-a840-49a5-8f20-5999b98858e8                          0   \n",
       "a7f51244-67a9-41d8-9de3-a76f9762b699 ddd935d7-495b-4055-ad85-5ae7ee754d85                          0   \n",
       "\n",
       "                                                                           Current Credit Balance  \\\n",
       "Customer ID                          Loan ID                                                        \n",
       "2366c3d2-ff61-4873-8877-b2d161ba42c3 a35ae387-f621-4d4e-b2f6-0f2256986ef9                    5153   \n",
       "37327f8f-7f1b-4aa3-a396-8ec470e95080 04e66244-d784-46d7-aaba-1f395a1f7001                   20524   \n",
       "e4f76d63-b693-475f-98bc-27e4fbfe1e91 ba1285d2-8fbb-4975-93cd-98c9dca67f54                   13434   \n",
       "ab620cb9-4f0a-4975-8349-790572d203d2 f9629141-a840-49a5-8f20-5999b98858e8                    2871   \n",
       "a7f51244-67a9-41d8-9de3-a76f9762b699 ddd935d7-495b-4055-ad85-5ae7ee754d85                   12275   \n",
       "\n",
       "                                                                           Maximum Open Credit  \\\n",
       "Customer ID                          Loan ID                                                     \n",
       "2366c3d2-ff61-4873-8877-b2d161ba42c3 a35ae387-f621-4d4e-b2f6-0f2256986ef9               7952.0   \n",
       "37327f8f-7f1b-4aa3-a396-8ec470e95080 04e66244-d784-46d7-aaba-1f395a1f7001              24288.0   \n",
       "e4f76d63-b693-475f-98bc-27e4fbfe1e91 ba1285d2-8fbb-4975-93cd-98c9dca67f54              17699.0   \n",
       "ab620cb9-4f0a-4975-8349-790572d203d2 f9629141-a840-49a5-8f20-5999b98858e8               3433.0   \n",
       "a7f51244-67a9-41d8-9de3-a76f9762b699 ddd935d7-495b-4055-ad85-5ae7ee754d85              67443.0   \n",
       "\n",
       "                                                                           ...  \\\n",
       "Customer ID                          Loan ID                               ...   \n",
       "2366c3d2-ff61-4873-8877-b2d161ba42c3 a35ae387-f621-4d4e-b2f6-0f2256986ef9  ...   \n",
       "37327f8f-7f1b-4aa3-a396-8ec470e95080 04e66244-d784-46d7-aaba-1f395a1f7001  ...   \n",
       "e4f76d63-b693-475f-98bc-27e4fbfe1e91 ba1285d2-8fbb-4975-93cd-98c9dca67f54  ...   \n",
       "ab620cb9-4f0a-4975-8349-790572d203d2 f9629141-a840-49a5-8f20-5999b98858e8  ...   \n",
       "a7f51244-67a9-41d8-9de3-a76f9762b699 ddd935d7-495b-4055-ad85-5ae7ee754d85  ...   \n",
       "\n",
       "                                                                           Years in current job_10+ years  \\\n",
       "Customer ID                          Loan ID                                                                \n",
       "2366c3d2-ff61-4873-8877-b2d161ba42c3 a35ae387-f621-4d4e-b2f6-0f2256986ef9                               1   \n",
       "37327f8f-7f1b-4aa3-a396-8ec470e95080 04e66244-d784-46d7-aaba-1f395a1f7001                               1   \n",
       "e4f76d63-b693-475f-98bc-27e4fbfe1e91 ba1285d2-8fbb-4975-93cd-98c9dca67f54                               0   \n",
       "ab620cb9-4f0a-4975-8349-790572d203d2 f9629141-a840-49a5-8f20-5999b98858e8                               0   \n",
       "a7f51244-67a9-41d8-9de3-a76f9762b699 ddd935d7-495b-4055-ad85-5ae7ee754d85                               0   \n",
       "\n",
       "                                                                           Years in current job_2 years  \\\n",
       "Customer ID                          Loan ID                                                              \n",
       "2366c3d2-ff61-4873-8877-b2d161ba42c3 a35ae387-f621-4d4e-b2f6-0f2256986ef9                             0   \n",
       "37327f8f-7f1b-4aa3-a396-8ec470e95080 04e66244-d784-46d7-aaba-1f395a1f7001                             0   \n",
       "e4f76d63-b693-475f-98bc-27e4fbfe1e91 ba1285d2-8fbb-4975-93cd-98c9dca67f54                             0   \n",
       "ab620cb9-4f0a-4975-8349-790572d203d2 f9629141-a840-49a5-8f20-5999b98858e8                             0   \n",
       "a7f51244-67a9-41d8-9de3-a76f9762b699 ddd935d7-495b-4055-ad85-5ae7ee754d85                             0   \n",
       "\n",
       "                                                                           Years in current job_3 years  \\\n",
       "Customer ID                          Loan ID                                                              \n",
       "2366c3d2-ff61-4873-8877-b2d161ba42c3 a35ae387-f621-4d4e-b2f6-0f2256986ef9                             0   \n",
       "37327f8f-7f1b-4aa3-a396-8ec470e95080 04e66244-d784-46d7-aaba-1f395a1f7001                             0   \n",
       "e4f76d63-b693-475f-98bc-27e4fbfe1e91 ba1285d2-8fbb-4975-93cd-98c9dca67f54                             0   \n",
       "ab620cb9-4f0a-4975-8349-790572d203d2 f9629141-a840-49a5-8f20-5999b98858e8                             1   \n",
       "a7f51244-67a9-41d8-9de3-a76f9762b699 ddd935d7-495b-4055-ad85-5ae7ee754d85                             0   \n",
       "\n",
       "                                                                           Years in current job_4 years  \\\n",
       "Customer ID                          Loan ID                                                              \n",
       "2366c3d2-ff61-4873-8877-b2d161ba42c3 a35ae387-f621-4d4e-b2f6-0f2256986ef9                             0   \n",
       "37327f8f-7f1b-4aa3-a396-8ec470e95080 04e66244-d784-46d7-aaba-1f395a1f7001                             0   \n",
       "e4f76d63-b693-475f-98bc-27e4fbfe1e91 ba1285d2-8fbb-4975-93cd-98c9dca67f54                             0   \n",
       "ab620cb9-4f0a-4975-8349-790572d203d2 f9629141-a840-49a5-8f20-5999b98858e8                             0   \n",
       "a7f51244-67a9-41d8-9de3-a76f9762b699 ddd935d7-495b-4055-ad85-5ae7ee754d85                             0   \n",
       "\n",
       "                                                                           Years in current job_5 years  \\\n",
       "Customer ID                          Loan ID                                                              \n",
       "2366c3d2-ff61-4873-8877-b2d161ba42c3 a35ae387-f621-4d4e-b2f6-0f2256986ef9                             0   \n",
       "37327f8f-7f1b-4aa3-a396-8ec470e95080 04e66244-d784-46d7-aaba-1f395a1f7001                             0   \n",
       "e4f76d63-b693-475f-98bc-27e4fbfe1e91 ba1285d2-8fbb-4975-93cd-98c9dca67f54                             0   \n",
       "ab620cb9-4f0a-4975-8349-790572d203d2 f9629141-a840-49a5-8f20-5999b98858e8                             0   \n",
       "a7f51244-67a9-41d8-9de3-a76f9762b699 ddd935d7-495b-4055-ad85-5ae7ee754d85                             1   \n",
       "\n",
       "                                                                           Years in current job_6 years  \\\n",
       "Customer ID                          Loan ID                                                              \n",
       "2366c3d2-ff61-4873-8877-b2d161ba42c3 a35ae387-f621-4d4e-b2f6-0f2256986ef9                             0   \n",
       "37327f8f-7f1b-4aa3-a396-8ec470e95080 04e66244-d784-46d7-aaba-1f395a1f7001                             0   \n",
       "e4f76d63-b693-475f-98bc-27e4fbfe1e91 ba1285d2-8fbb-4975-93cd-98c9dca67f54                             0   \n",
       "ab620cb9-4f0a-4975-8349-790572d203d2 f9629141-a840-49a5-8f20-5999b98858e8                             0   \n",
       "a7f51244-67a9-41d8-9de3-a76f9762b699 ddd935d7-495b-4055-ad85-5ae7ee754d85                             0   \n",
       "\n",
       "                                                                           Years in current job_7 years  \\\n",
       "Customer ID                          Loan ID                                                              \n",
       "2366c3d2-ff61-4873-8877-b2d161ba42c3 a35ae387-f621-4d4e-b2f6-0f2256986ef9                             0   \n",
       "37327f8f-7f1b-4aa3-a396-8ec470e95080 04e66244-d784-46d7-aaba-1f395a1f7001                             0   \n",
       "e4f76d63-b693-475f-98bc-27e4fbfe1e91 ba1285d2-8fbb-4975-93cd-98c9dca67f54                             1   \n",
       "ab620cb9-4f0a-4975-8349-790572d203d2 f9629141-a840-49a5-8f20-5999b98858e8                             0   \n",
       "a7f51244-67a9-41d8-9de3-a76f9762b699 ddd935d7-495b-4055-ad85-5ae7ee754d85                             0   \n",
       "\n",
       "                                                                           Years in current job_8 years  \\\n",
       "Customer ID                          Loan ID                                                              \n",
       "2366c3d2-ff61-4873-8877-b2d161ba42c3 a35ae387-f621-4d4e-b2f6-0f2256986ef9                             0   \n",
       "37327f8f-7f1b-4aa3-a396-8ec470e95080 04e66244-d784-46d7-aaba-1f395a1f7001                             0   \n",
       "e4f76d63-b693-475f-98bc-27e4fbfe1e91 ba1285d2-8fbb-4975-93cd-98c9dca67f54                             0   \n",
       "ab620cb9-4f0a-4975-8349-790572d203d2 f9629141-a840-49a5-8f20-5999b98858e8                             0   \n",
       "a7f51244-67a9-41d8-9de3-a76f9762b699 ddd935d7-495b-4055-ad85-5ae7ee754d85                             0   \n",
       "\n",
       "                                                                           Years in current job_9 years  \\\n",
       "Customer ID                          Loan ID                                                              \n",
       "2366c3d2-ff61-4873-8877-b2d161ba42c3 a35ae387-f621-4d4e-b2f6-0f2256986ef9                             0   \n",
       "37327f8f-7f1b-4aa3-a396-8ec470e95080 04e66244-d784-46d7-aaba-1f395a1f7001                             0   \n",
       "e4f76d63-b693-475f-98bc-27e4fbfe1e91 ba1285d2-8fbb-4975-93cd-98c9dca67f54                             0   \n",
       "ab620cb9-4f0a-4975-8349-790572d203d2 f9629141-a840-49a5-8f20-5999b98858e8                             0   \n",
       "a7f51244-67a9-41d8-9de3-a76f9762b699 ddd935d7-495b-4055-ad85-5ae7ee754d85                             0   \n",
       "\n",
       "                                                                           Years in current job_< 1 year  \n",
       "Customer ID                          Loan ID                                                              \n",
       "2366c3d2-ff61-4873-8877-b2d161ba42c3 a35ae387-f621-4d4e-b2f6-0f2256986ef9                              0  \n",
       "37327f8f-7f1b-4aa3-a396-8ec470e95080 04e66244-d784-46d7-aaba-1f395a1f7001                              0  \n",
       "e4f76d63-b693-475f-98bc-27e4fbfe1e91 ba1285d2-8fbb-4975-93cd-98c9dca67f54                              0  \n",
       "ab620cb9-4f0a-4975-8349-790572d203d2 f9629141-a840-49a5-8f20-5999b98858e8                              0  \n",
       "a7f51244-67a9-41d8-9de3-a76f9762b699 ddd935d7-495b-4055-ad85-5ae7ee754d85                              0  \n",
       "\n",
       "[5 rows x 41 columns]"
      ]
     },
     "execution_count": 85,
     "metadata": {},
     "output_type": "execute_result"
    }
   ],
   "source": [
    "X_train.head()"
   ]
  },
  {
   "cell_type": "code",
   "execution_count": 86,
   "metadata": {},
   "outputs": [],
   "source": [
    "model = LogisticRegression() "
   ]
  },
  {
   "cell_type": "code",
   "execution_count": 87,
   "metadata": {},
   "outputs": [
    {
     "name": "stderr",
     "output_type": "stream",
     "text": [
      "C:\\Users\\shikh\\Anaconda3\\lib\\site-packages\\sklearn\\linear_model\\logistic.py:432: FutureWarning: Default solver will be changed to 'lbfgs' in 0.22. Specify a solver to silence this warning.\n",
      "  FutureWarning)\n"
     ]
    },
    {
     "data": {
      "text/plain": [
       "LogisticRegression(C=1.0, class_weight=None, dual=False, fit_intercept=True,\n",
       "                   intercept_scaling=1, l1_ratio=None, max_iter=100,\n",
       "                   multi_class='warn', n_jobs=None, penalty='l2',\n",
       "                   random_state=None, solver='warn', tol=0.0001, verbose=0,\n",
       "                   warm_start=False)"
      ]
     },
     "execution_count": 87,
     "metadata": {},
     "output_type": "execute_result"
    }
   ],
   "source": [
    "model.fit(X_train,y_train)"
   ]
  },
  {
   "cell_type": "code",
   "execution_count": 88,
   "metadata": {},
   "outputs": [
    {
     "data": {
      "text/plain": [
       "0.8151846684778619"
      ]
     },
     "execution_count": 88,
     "metadata": {},
     "output_type": "execute_result"
    }
   ],
   "source": [
    "model.score(X_train,y_train)"
   ]
  },
  {
   "cell_type": "code",
   "execution_count": 89,
   "metadata": {},
   "outputs": [],
   "source": [
    "y_pred_train = model.predict(X_train)"
   ]
  },
  {
   "cell_type": "code",
   "execution_count": 90,
   "metadata": {},
   "outputs": [
    {
     "data": {
      "text/plain": [
       "array([[42079,    62],\n",
       "       [10006,  2329]], dtype=int64)"
      ]
     },
     "execution_count": 90,
     "metadata": {},
     "output_type": "execute_result"
    }
   ],
   "source": [
    "confusion_matrix(y_train,y_pred_train)"
   ]
  },
  {
   "cell_type": "code",
   "execution_count": 91,
   "metadata": {},
   "outputs": [
    {
     "data": {
      "text/plain": [
       "0.815129598355239"
      ]
     },
     "execution_count": 91,
     "metadata": {},
     "output_type": "execute_result"
    }
   ],
   "source": [
    "(2327+42078)/(2327+42078+63+10008)"
   ]
  },
  {
   "cell_type": "code",
   "execution_count": 92,
   "metadata": {},
   "outputs": [],
   "source": [
    "#Decision Tree\n",
    "# importing the required libraries\n",
    "import numpy as np\n",
    "import pandas as pd\n",
    "import matplotlib.pyplot as plt\n",
    "from sklearn.model_selection import train_test_split\n",
    "from sklearn.tree import DecisionTreeClassifier\n",
    "from sklearn.model_selection import GridSearchCV\n",
    "from sklearn.metrics import accuracy_score,auc,roc_curve,confusion_matrix, classification_report,roc_auc_score"
   ]
  },
  {
   "cell_type": "code",
   "execution_count": 93,
   "metadata": {},
   "outputs": [],
   "source": [
    "hd_model = DecisionTreeClassifier(max_depth=4)"
   ]
  },
  {
   "cell_type": "code",
   "execution_count": 94,
   "metadata": {},
   "outputs": [
    {
     "data": {
      "text/plain": [
       "DecisionTreeClassifier(class_weight=None, criterion='gini', max_depth=4,\n",
       "                       max_features=None, max_leaf_nodes=None,\n",
       "                       min_impurity_decrease=0.0, min_impurity_split=None,\n",
       "                       min_samples_leaf=1, min_samples_split=2,\n",
       "                       min_weight_fraction_leaf=0.0, presort=False,\n",
       "                       random_state=None, splitter='best')"
      ]
     },
     "execution_count": 94,
     "metadata": {},
     "output_type": "execute_result"
    }
   ],
   "source": [
    "hd_model.fit(X_train,y_train)"
   ]
  },
  {
   "cell_type": "code",
   "execution_count": 95,
   "metadata": {},
   "outputs": [
    {
     "data": {
      "text/plain": [
       "0.818268595344739"
      ]
     },
     "execution_count": 95,
     "metadata": {},
     "output_type": "execute_result"
    }
   ],
   "source": [
    "hd_model.score(X_train,y_train) "
   ]
  },
  {
   "cell_type": "code",
   "execution_count": 96,
   "metadata": {},
   "outputs": [],
   "source": [
    "# Ensemble methods\n",
    "# importing the required libraries\n",
    "import numpy as np\n",
    "import pandas as pd\n",
    "import matplotlib.pyplot as plt\n",
    "from sklearn.model_selection import train_test_split\n",
    "from sklearn.tree import DecisionTreeClassifier\n",
    "from sklearn.ensemble import BaggingClassifier\n",
    "from sklearn.ensemble import RandomForestClassifier\n",
    "from sklearn.model_selection import GridSearchCV\n",
    "from sklearn.metrics import accuracy_score,auc,roc_curve,confusion_matrix, classification_report,roc_auc_score"
   ]
  },
  {
   "cell_type": "code",
   "execution_count": 97,
   "metadata": {},
   "outputs": [],
   "source": [
    "# Using Bagging on decision tree model\n",
    "model_bag = BaggingClassifier(base_estimator=DecisionTreeClassifier(max_depth=3),n_estimators=100,random_state=42)"
   ]
  },
  {
   "cell_type": "code",
   "execution_count": 98,
   "metadata": {},
   "outputs": [
    {
     "data": {
      "text/plain": [
       "BaggingClassifier(base_estimator=DecisionTreeClassifier(class_weight=None,\n",
       "                                                        criterion='gini',\n",
       "                                                        max_depth=3,\n",
       "                                                        max_features=None,\n",
       "                                                        max_leaf_nodes=None,\n",
       "                                                        min_impurity_decrease=0.0,\n",
       "                                                        min_impurity_split=None,\n",
       "                                                        min_samples_leaf=1,\n",
       "                                                        min_samples_split=2,\n",
       "                                                        min_weight_fraction_leaf=0.0,\n",
       "                                                        presort=False,\n",
       "                                                        random_state=None,\n",
       "                                                        splitter='best'),\n",
       "                  bootstrap=True, bootstrap_features=False, max_features=1.0,\n",
       "                  max_samples=1.0, n_estimators=100, n_jobs=None,\n",
       "                  oob_score=False, random_state=42, verbose=0,\n",
       "                  warm_start=False)"
      ]
     },
     "execution_count": 98,
     "metadata": {},
     "output_type": "execute_result"
    }
   ],
   "source": [
    "model_bag.fit(X_train,y_train)"
   ]
  },
  {
   "cell_type": "code",
   "execution_count": 99,
   "metadata": {},
   "outputs": [
    {
     "data": {
      "text/plain": [
       "0.818268595344739"
      ]
     },
     "execution_count": 99,
     "metadata": {},
     "output_type": "execute_result"
    }
   ],
   "source": [
    "model_bag.score(X_train,y_train)"
   ]
  },
  {
   "cell_type": "code",
   "execution_count": null,
   "metadata": {},
   "outputs": [],
   "source": []
  },
  {
   "cell_type": "code",
   "execution_count": 100,
   "metadata": {},
   "outputs": [],
   "source": [
    "#Random forest\n",
    "# create a random forest model and fit on train data\n",
    "model_rf = RandomForestClassifier(n_estimators=200,max_depth=5,max_features=12,oob_score=True,verbose=1,random_state=50)"
   ]
  },
  {
   "cell_type": "code",
   "execution_count": 101,
   "metadata": {},
   "outputs": [
    {
     "name": "stderr",
     "output_type": "stream",
     "text": [
      "[Parallel(n_jobs=1)]: Using backend SequentialBackend with 1 concurrent workers.\n",
      "[Parallel(n_jobs=1)]: Done 200 out of 200 | elapsed:    9.2s finished\n"
     ]
    },
    {
     "data": {
      "text/plain": [
       "RandomForestClassifier(bootstrap=True, class_weight=None, criterion='gini',\n",
       "                       max_depth=5, max_features=12, max_leaf_nodes=None,\n",
       "                       min_impurity_decrease=0.0, min_impurity_split=None,\n",
       "                       min_samples_leaf=1, min_samples_split=2,\n",
       "                       min_weight_fraction_leaf=0.0, n_estimators=200,\n",
       "                       n_jobs=None, oob_score=True, random_state=50, verbose=1,\n",
       "                       warm_start=False)"
      ]
     },
     "execution_count": 101,
     "metadata": {},
     "output_type": "execute_result"
    }
   ],
   "source": [
    "model_rf.fit(X_train,y_train)"
   ]
  },
  {
   "cell_type": "code",
   "execution_count": 102,
   "metadata": {},
   "outputs": [
    {
     "name": "stderr",
     "output_type": "stream",
     "text": [
      "[Parallel(n_jobs=1)]: Using backend SequentialBackend with 1 concurrent workers.\n",
      "[Parallel(n_jobs=1)]: Done 200 out of 200 | elapsed:    0.4s finished\n"
     ]
    },
    {
     "data": {
      "text/plain": [
       "0.818268595344739"
      ]
     },
     "execution_count": 102,
     "metadata": {},
     "output_type": "execute_result"
    }
   ],
   "source": [
    "model_rf.score(X_train,y_train)    # accuracy score for train data"
   ]
  },
  {
   "cell_type": "code",
   "execution_count": 103,
   "metadata": {},
   "outputs": [],
   "source": [
    "# Hyperparameter Tuning\n",
    "parameters = {'max_features':np.arange(1,10),'max_depth':np.arange(1,6)}"
   ]
  },
  {
   "cell_type": "code",
   "execution_count": 104,
   "metadata": {},
   "outputs": [],
   "source": [
    "tune_model = GridSearchCV(model_rf,parameters,cv=5,scoring='accuracy')"
   ]
  },
  {
   "cell_type": "code",
   "execution_count": null,
   "metadata": {},
   "outputs": [],
   "source": []
  },
  {
   "cell_type": "code",
   "execution_count": null,
   "metadata": {},
   "outputs": [],
   "source": []
  },
  {
   "cell_type": "code",
   "execution_count": 105,
   "metadata": {},
   "outputs": [],
   "source": [
    "ttc = tt.copy()"
   ]
  },
  {
   "cell_type": "code",
   "execution_count": 106,
   "metadata": {},
   "outputs": [],
   "source": [
    "ttc.set_index(['Customer ID','Loan ID'],inplace=True)"
   ]
  },
  {
   "cell_type": "code",
   "execution_count": 107,
   "metadata": {},
   "outputs": [],
   "source": [
    "ttc['Loan Status'] = ttc['Loan Status'].map({'Fully Paid':0,'Charged Off':1})"
   ]
  },
  {
   "cell_type": "code",
   "execution_count": 108,
   "metadata": {},
   "outputs": [],
   "source": [
    "ttc['Credit Score'].fillna(ttc['Credit Score'].median(),inplace=True)\n",
    "ttc['Years in current job'].fillna(ttc['Years in current job'].mode()[0],inplace=True)\n",
    "ttc['Annual Income'].fillna(ttc['Annual Income'].median(),inplace=True)\n",
    "ttc['Months since last delinquent'].fillna(ttc['Months since last delinquent'].median(),inplace=True)\n",
    "ttc['Bankruptcies'].fillna(ttc['Bankruptcies'].median(),inplace=True)\n",
    "ttc['Tax Liens'].fillna(ttc['Tax Liens'].median(),inplace=True)"
   ]
  },
  {
   "cell_type": "code",
   "execution_count": 109,
   "metadata": {},
   "outputs": [],
   "source": [
    "ttc['Monthly Debt'] = ttc['Monthly Debt'].apply(lambda x:str(x))\n",
    "ttc['Monthly Debt'] = ttc['Monthly Debt'].apply(lambda x: x.strip('$'))\n",
    "ttc['Monthly Debt'] = ttc['Monthly Debt'].apply(lambda x:float(x))"
   ]
  },
  {
   "cell_type": "code",
   "execution_count": 110,
   "metadata": {},
   "outputs": [],
   "source": [
    "ttc['Maximum Open Credit'] = ttc['Maximum Open Credit'].apply(lambda x:str(x))\n",
    "ttc['Maximum Open Credit'] = ttc['Maximum Open Credit'].apply(lambda x: x.replace('#VALUE!','0'))\n",
    "ttc['Maximum Open Credit'] = ttc['Maximum Open Credit'].apply(lambda x:float(x))"
   ]
  },
  {
   "cell_type": "code",
   "execution_count": null,
   "metadata": {},
   "outputs": [],
   "source": []
  },
  {
   "cell_type": "code",
   "execution_count": 111,
   "metadata": {},
   "outputs": [],
   "source": [
    "X_test1 = ttc.drop(['Loan Status'],axis=1)\n",
    "y_test1 = ttc['Loan Status']"
   ]
  },
  {
   "cell_type": "code",
   "execution_count": 112,
   "metadata": {},
   "outputs": [],
   "source": [
    "X_test1 = pd.get_dummies(X_test1,columns=['Term','Home Ownership','Purpose','Years in current job'],drop_first=True)"
   ]
  },
  {
   "cell_type": "code",
   "execution_count": 113,
   "metadata": {},
   "outputs": [],
   "source": [
    "y_pred_test = model.predict(X_test1)"
   ]
  },
  {
   "cell_type": "code",
   "execution_count": 114,
   "metadata": {},
   "outputs": [
    {
     "data": {
      "text/plain": [
       "0.7712668241292693"
      ]
     },
     "execution_count": 114,
     "metadata": {},
     "output_type": "execute_result"
    }
   ],
   "source": [
    "accuracy_score(y_test1,y_pred_test)"
   ]
  },
  {
   "cell_type": "code",
   "execution_count": 115,
   "metadata": {},
   "outputs": [
    {
     "data": {
      "text/plain": [
       "array([[19089,    32],\n",
       "       [ 6069,  1483]], dtype=int64)"
      ]
     },
     "execution_count": 115,
     "metadata": {},
     "output_type": "execute_result"
    }
   ],
   "source": [
    "confusion_matrix(y_test1,y_pred_test)"
   ]
  },
  {
   "cell_type": "code",
   "execution_count": null,
   "metadata": {},
   "outputs": [],
   "source": []
  },
  {
   "cell_type": "code",
   "execution_count": 116,
   "metadata": {},
   "outputs": [],
   "source": [
    "y_pred_test = hd_model.predict(X_test1)"
   ]
  },
  {
   "cell_type": "code",
   "execution_count": 117,
   "metadata": {},
   "outputs": [
    {
     "data": {
      "text/plain": [
       "0.7754283357702546"
      ]
     },
     "execution_count": 117,
     "metadata": {},
     "output_type": "execute_result"
    }
   ],
   "source": [
    "accuracy_score(y_test1,y_pred_test)"
   ]
  },
  {
   "cell_type": "code",
   "execution_count": null,
   "metadata": {},
   "outputs": [],
   "source": []
  },
  {
   "cell_type": "code",
   "execution_count": 118,
   "metadata": {},
   "outputs": [
    {
     "name": "stderr",
     "output_type": "stream",
     "text": [
      "[Parallel(n_jobs=1)]: Using backend SequentialBackend with 1 concurrent workers.\n",
      "[Parallel(n_jobs=1)]: Done 200 out of 200 | elapsed:    0.2s finished\n"
     ]
    }
   ],
   "source": [
    "y_pred_test = model_rf.predict(X_test1)"
   ]
  },
  {
   "cell_type": "code",
   "execution_count": 119,
   "metadata": {},
   "outputs": [
    {
     "data": {
      "text/plain": [
       "0.7754283357702546"
      ]
     },
     "execution_count": 119,
     "metadata": {},
     "output_type": "execute_result"
    }
   ],
   "source": [
    "accuracy_score(y_test1,y_pred_test)"
   ]
  },
  {
   "cell_type": "code",
   "execution_count": 120,
   "metadata": {},
   "outputs": [
    {
     "data": {
      "text/plain": [
       "(26673, 17)"
      ]
     },
     "execution_count": 120,
     "metadata": {},
     "output_type": "execute_result"
    }
   ],
   "source": [
    "ttc.shape"
   ]
  },
  {
   "cell_type": "code",
   "execution_count": 121,
   "metadata": {},
   "outputs": [
    {
     "data": {
      "text/plain": [
       "(26673,)"
      ]
     },
     "execution_count": 121,
     "metadata": {},
     "output_type": "execute_result"
    }
   ],
   "source": [
    "y_pred_test.shape"
   ]
  },
  {
   "cell_type": "code",
   "execution_count": 123,
   "metadata": {},
   "outputs": [],
   "source": [
    "ttc['Predicted loan status'] = y_pred_test"
   ]
  },
  {
   "cell_type": "code",
   "execution_count": 124,
   "metadata": {},
   "outputs": [
    {
     "data": {
      "text/html": [
       "<div>\n",
       "<style scoped>\n",
       "    .dataframe tbody tr th:only-of-type {\n",
       "        vertical-align: middle;\n",
       "    }\n",
       "\n",
       "    .dataframe tbody tr th {\n",
       "        vertical-align: top;\n",
       "    }\n",
       "\n",
       "    .dataframe thead th {\n",
       "        text-align: right;\n",
       "    }\n",
       "</style>\n",
       "<table border=\"1\" class=\"dataframe\">\n",
       "  <thead>\n",
       "    <tr style=\"text-align: right;\">\n",
       "      <th></th>\n",
       "      <th></th>\n",
       "      <th>Loan Status</th>\n",
       "      <th>Current Loan Amount</th>\n",
       "      <th>Term</th>\n",
       "      <th>Credit Score</th>\n",
       "      <th>Years in current job</th>\n",
       "      <th>Home Ownership</th>\n",
       "      <th>Annual Income</th>\n",
       "      <th>Purpose</th>\n",
       "      <th>Monthly Debt</th>\n",
       "      <th>Years of Credit History</th>\n",
       "      <th>Months since last delinquent</th>\n",
       "      <th>Number of Open Accounts</th>\n",
       "      <th>Number of Credit Problems</th>\n",
       "      <th>Current Credit Balance</th>\n",
       "      <th>Maximum Open Credit</th>\n",
       "      <th>Bankruptcies</th>\n",
       "      <th>Tax Liens</th>\n",
       "      <th>Predicted loan status</th>\n",
       "    </tr>\n",
       "    <tr>\n",
       "      <th>Customer ID</th>\n",
       "      <th>Loan ID</th>\n",
       "      <th></th>\n",
       "      <th></th>\n",
       "      <th></th>\n",
       "      <th></th>\n",
       "      <th></th>\n",
       "      <th></th>\n",
       "      <th></th>\n",
       "      <th></th>\n",
       "      <th></th>\n",
       "      <th></th>\n",
       "      <th></th>\n",
       "      <th></th>\n",
       "      <th></th>\n",
       "      <th></th>\n",
       "      <th></th>\n",
       "      <th></th>\n",
       "      <th></th>\n",
       "      <th></th>\n",
       "    </tr>\n",
       "  </thead>\n",
       "  <tbody>\n",
       "    <tr>\n",
       "      <td>923ee454-6911-4f5a-9dfd-ba6b00b92718</td>\n",
       "      <td>0c49cbd6-dd97-4b99-9c05-c63a5d592fde</td>\n",
       "      <td>0</td>\n",
       "      <td>99999999</td>\n",
       "      <td>Short Term</td>\n",
       "      <td>728.0</td>\n",
       "      <td>1 year</td>\n",
       "      <td>Home Mortgage</td>\n",
       "      <td>76133.0</td>\n",
       "      <td>Debt Consolidation</td>\n",
       "      <td>1161.02</td>\n",
       "      <td>15.2</td>\n",
       "      <td>32.0</td>\n",
       "      <td>16</td>\n",
       "      <td>1</td>\n",
       "      <td>9880</td>\n",
       "      <td>14424.0</td>\n",
       "      <td>1.0</td>\n",
       "      <td>0.0</td>\n",
       "      <td>0</td>\n",
       "    </tr>\n",
       "    <tr>\n",
       "      <td>da041fa4-e423-4eb3-9d81-9ee1fd52f750</td>\n",
       "      <td>8be00956-6b7f-4b74-8398-87c8035605df</td>\n",
       "      <td>0</td>\n",
       "      <td>34202</td>\n",
       "      <td>Short Term</td>\n",
       "      <td>724.0</td>\n",
       "      <td>10+ years</td>\n",
       "      <td>Home Mortgage</td>\n",
       "      <td>107492.0</td>\n",
       "      <td>Debt Consolidation</td>\n",
       "      <td>2902.28</td>\n",
       "      <td>17.2</td>\n",
       "      <td>71.0</td>\n",
       "      <td>17</td>\n",
       "      <td>0</td>\n",
       "      <td>26461</td>\n",
       "      <td>42135.0</td>\n",
       "      <td>0.0</td>\n",
       "      <td>0.0</td>\n",
       "      <td>0</td>\n",
       "    </tr>\n",
       "    <tr>\n",
       "      <td>f9041857-4e0a-449c-af67-b2fbbd11950b</td>\n",
       "      <td>57359000-1074-44fa-833b-4bea7a0a9d26</td>\n",
       "      <td>0</td>\n",
       "      <td>17991</td>\n",
       "      <td>Short Term</td>\n",
       "      <td>743.0</td>\n",
       "      <td>10+ years</td>\n",
       "      <td>Own Home</td>\n",
       "      <td>69965.0</td>\n",
       "      <td>Debt Consolidation</td>\n",
       "      <td>1055.30</td>\n",
       "      <td>36.0</td>\n",
       "      <td>12.0</td>\n",
       "      <td>26</td>\n",
       "      <td>0</td>\n",
       "      <td>11713</td>\n",
       "      <td>61005.0</td>\n",
       "      <td>0.0</td>\n",
       "      <td>0.0</td>\n",
       "      <td>0</td>\n",
       "    </tr>\n",
       "    <tr>\n",
       "      <td>304143c6-d619-48f3-9807-61371b47a230</td>\n",
       "      <td>90a7d1b4-3997-414b-9abb-1de8cec79b18</td>\n",
       "      <td>1</td>\n",
       "      <td>31722</td>\n",
       "      <td>Long Term</td>\n",
       "      <td>686.0</td>\n",
       "      <td>2 years</td>\n",
       "      <td>Rent</td>\n",
       "      <td>72365.0</td>\n",
       "      <td>major_purchase</td>\n",
       "      <td>844.26</td>\n",
       "      <td>11.2</td>\n",
       "      <td>41.0</td>\n",
       "      <td>5</td>\n",
       "      <td>0</td>\n",
       "      <td>16151</td>\n",
       "      <td>19227.0</td>\n",
       "      <td>0.0</td>\n",
       "      <td>0.0</td>\n",
       "      <td>0</td>\n",
       "    </tr>\n",
       "    <tr>\n",
       "      <td>de2c8c55-468c-4b4b-b73f-7907eeb8e096</td>\n",
       "      <td>c2f24b30-bec3-4944-a417-c8d7b377810e</td>\n",
       "      <td>0</td>\n",
       "      <td>13650</td>\n",
       "      <td>Long Term</td>\n",
       "      <td>719.0</td>\n",
       "      <td>7 years</td>\n",
       "      <td>Home Mortgage</td>\n",
       "      <td>78956.0</td>\n",
       "      <td>Debt Consolidation</td>\n",
       "      <td>520.45</td>\n",
       "      <td>20.4</td>\n",
       "      <td>35.0</td>\n",
       "      <td>9</td>\n",
       "      <td>0</td>\n",
       "      <td>17029</td>\n",
       "      <td>23784.0</td>\n",
       "      <td>0.0</td>\n",
       "      <td>0.0</td>\n",
       "      <td>0</td>\n",
       "    </tr>\n",
       "  </tbody>\n",
       "</table>\n",
       "</div>"
      ],
      "text/plain": [
       "                                                                           Loan Status  \\\n",
       "Customer ID                          Loan ID                                             \n",
       "923ee454-6911-4f5a-9dfd-ba6b00b92718 0c49cbd6-dd97-4b99-9c05-c63a5d592fde            0   \n",
       "da041fa4-e423-4eb3-9d81-9ee1fd52f750 8be00956-6b7f-4b74-8398-87c8035605df            0   \n",
       "f9041857-4e0a-449c-af67-b2fbbd11950b 57359000-1074-44fa-833b-4bea7a0a9d26            0   \n",
       "304143c6-d619-48f3-9807-61371b47a230 90a7d1b4-3997-414b-9abb-1de8cec79b18            1   \n",
       "de2c8c55-468c-4b4b-b73f-7907eeb8e096 c2f24b30-bec3-4944-a417-c8d7b377810e            0   \n",
       "\n",
       "                                                                           Current Loan Amount  \\\n",
       "Customer ID                          Loan ID                                                     \n",
       "923ee454-6911-4f5a-9dfd-ba6b00b92718 0c49cbd6-dd97-4b99-9c05-c63a5d592fde             99999999   \n",
       "da041fa4-e423-4eb3-9d81-9ee1fd52f750 8be00956-6b7f-4b74-8398-87c8035605df                34202   \n",
       "f9041857-4e0a-449c-af67-b2fbbd11950b 57359000-1074-44fa-833b-4bea7a0a9d26                17991   \n",
       "304143c6-d619-48f3-9807-61371b47a230 90a7d1b4-3997-414b-9abb-1de8cec79b18                31722   \n",
       "de2c8c55-468c-4b4b-b73f-7907eeb8e096 c2f24b30-bec3-4944-a417-c8d7b377810e                13650   \n",
       "\n",
       "                                                                                 Term  \\\n",
       "Customer ID                          Loan ID                                            \n",
       "923ee454-6911-4f5a-9dfd-ba6b00b92718 0c49cbd6-dd97-4b99-9c05-c63a5d592fde  Short Term   \n",
       "da041fa4-e423-4eb3-9d81-9ee1fd52f750 8be00956-6b7f-4b74-8398-87c8035605df  Short Term   \n",
       "f9041857-4e0a-449c-af67-b2fbbd11950b 57359000-1074-44fa-833b-4bea7a0a9d26  Short Term   \n",
       "304143c6-d619-48f3-9807-61371b47a230 90a7d1b4-3997-414b-9abb-1de8cec79b18   Long Term   \n",
       "de2c8c55-468c-4b4b-b73f-7907eeb8e096 c2f24b30-bec3-4944-a417-c8d7b377810e   Long Term   \n",
       "\n",
       "                                                                           Credit Score  \\\n",
       "Customer ID                          Loan ID                                              \n",
       "923ee454-6911-4f5a-9dfd-ba6b00b92718 0c49cbd6-dd97-4b99-9c05-c63a5d592fde         728.0   \n",
       "da041fa4-e423-4eb3-9d81-9ee1fd52f750 8be00956-6b7f-4b74-8398-87c8035605df         724.0   \n",
       "f9041857-4e0a-449c-af67-b2fbbd11950b 57359000-1074-44fa-833b-4bea7a0a9d26         743.0   \n",
       "304143c6-d619-48f3-9807-61371b47a230 90a7d1b4-3997-414b-9abb-1de8cec79b18         686.0   \n",
       "de2c8c55-468c-4b4b-b73f-7907eeb8e096 c2f24b30-bec3-4944-a417-c8d7b377810e         719.0   \n",
       "\n",
       "                                                                          Years in current job  \\\n",
       "Customer ID                          Loan ID                                                     \n",
       "923ee454-6911-4f5a-9dfd-ba6b00b92718 0c49cbd6-dd97-4b99-9c05-c63a5d592fde               1 year   \n",
       "da041fa4-e423-4eb3-9d81-9ee1fd52f750 8be00956-6b7f-4b74-8398-87c8035605df            10+ years   \n",
       "f9041857-4e0a-449c-af67-b2fbbd11950b 57359000-1074-44fa-833b-4bea7a0a9d26            10+ years   \n",
       "304143c6-d619-48f3-9807-61371b47a230 90a7d1b4-3997-414b-9abb-1de8cec79b18              2 years   \n",
       "de2c8c55-468c-4b4b-b73f-7907eeb8e096 c2f24b30-bec3-4944-a417-c8d7b377810e              7 years   \n",
       "\n",
       "                                                                          Home Ownership  \\\n",
       "Customer ID                          Loan ID                                               \n",
       "923ee454-6911-4f5a-9dfd-ba6b00b92718 0c49cbd6-dd97-4b99-9c05-c63a5d592fde  Home Mortgage   \n",
       "da041fa4-e423-4eb3-9d81-9ee1fd52f750 8be00956-6b7f-4b74-8398-87c8035605df  Home Mortgage   \n",
       "f9041857-4e0a-449c-af67-b2fbbd11950b 57359000-1074-44fa-833b-4bea7a0a9d26       Own Home   \n",
       "304143c6-d619-48f3-9807-61371b47a230 90a7d1b4-3997-414b-9abb-1de8cec79b18           Rent   \n",
       "de2c8c55-468c-4b4b-b73f-7907eeb8e096 c2f24b30-bec3-4944-a417-c8d7b377810e  Home Mortgage   \n",
       "\n",
       "                                                                           Annual Income  \\\n",
       "Customer ID                          Loan ID                                               \n",
       "923ee454-6911-4f5a-9dfd-ba6b00b92718 0c49cbd6-dd97-4b99-9c05-c63a5d592fde        76133.0   \n",
       "da041fa4-e423-4eb3-9d81-9ee1fd52f750 8be00956-6b7f-4b74-8398-87c8035605df       107492.0   \n",
       "f9041857-4e0a-449c-af67-b2fbbd11950b 57359000-1074-44fa-833b-4bea7a0a9d26        69965.0   \n",
       "304143c6-d619-48f3-9807-61371b47a230 90a7d1b4-3997-414b-9abb-1de8cec79b18        72365.0   \n",
       "de2c8c55-468c-4b4b-b73f-7907eeb8e096 c2f24b30-bec3-4944-a417-c8d7b377810e        78956.0   \n",
       "\n",
       "                                                                                      Purpose  \\\n",
       "Customer ID                          Loan ID                                                    \n",
       "923ee454-6911-4f5a-9dfd-ba6b00b92718 0c49cbd6-dd97-4b99-9c05-c63a5d592fde  Debt Consolidation   \n",
       "da041fa4-e423-4eb3-9d81-9ee1fd52f750 8be00956-6b7f-4b74-8398-87c8035605df  Debt Consolidation   \n",
       "f9041857-4e0a-449c-af67-b2fbbd11950b 57359000-1074-44fa-833b-4bea7a0a9d26  Debt Consolidation   \n",
       "304143c6-d619-48f3-9807-61371b47a230 90a7d1b4-3997-414b-9abb-1de8cec79b18      major_purchase   \n",
       "de2c8c55-468c-4b4b-b73f-7907eeb8e096 c2f24b30-bec3-4944-a417-c8d7b377810e  Debt Consolidation   \n",
       "\n",
       "                                                                           Monthly Debt  \\\n",
       "Customer ID                          Loan ID                                              \n",
       "923ee454-6911-4f5a-9dfd-ba6b00b92718 0c49cbd6-dd97-4b99-9c05-c63a5d592fde       1161.02   \n",
       "da041fa4-e423-4eb3-9d81-9ee1fd52f750 8be00956-6b7f-4b74-8398-87c8035605df       2902.28   \n",
       "f9041857-4e0a-449c-af67-b2fbbd11950b 57359000-1074-44fa-833b-4bea7a0a9d26       1055.30   \n",
       "304143c6-d619-48f3-9807-61371b47a230 90a7d1b4-3997-414b-9abb-1de8cec79b18        844.26   \n",
       "de2c8c55-468c-4b4b-b73f-7907eeb8e096 c2f24b30-bec3-4944-a417-c8d7b377810e        520.45   \n",
       "\n",
       "                                                                           Years of Credit History  \\\n",
       "Customer ID                          Loan ID                                                         \n",
       "923ee454-6911-4f5a-9dfd-ba6b00b92718 0c49cbd6-dd97-4b99-9c05-c63a5d592fde                     15.2   \n",
       "da041fa4-e423-4eb3-9d81-9ee1fd52f750 8be00956-6b7f-4b74-8398-87c8035605df                     17.2   \n",
       "f9041857-4e0a-449c-af67-b2fbbd11950b 57359000-1074-44fa-833b-4bea7a0a9d26                     36.0   \n",
       "304143c6-d619-48f3-9807-61371b47a230 90a7d1b4-3997-414b-9abb-1de8cec79b18                     11.2   \n",
       "de2c8c55-468c-4b4b-b73f-7907eeb8e096 c2f24b30-bec3-4944-a417-c8d7b377810e                     20.4   \n",
       "\n",
       "                                                                           Months since last delinquent  \\\n",
       "Customer ID                          Loan ID                                                              \n",
       "923ee454-6911-4f5a-9dfd-ba6b00b92718 0c49cbd6-dd97-4b99-9c05-c63a5d592fde                          32.0   \n",
       "da041fa4-e423-4eb3-9d81-9ee1fd52f750 8be00956-6b7f-4b74-8398-87c8035605df                          71.0   \n",
       "f9041857-4e0a-449c-af67-b2fbbd11950b 57359000-1074-44fa-833b-4bea7a0a9d26                          12.0   \n",
       "304143c6-d619-48f3-9807-61371b47a230 90a7d1b4-3997-414b-9abb-1de8cec79b18                          41.0   \n",
       "de2c8c55-468c-4b4b-b73f-7907eeb8e096 c2f24b30-bec3-4944-a417-c8d7b377810e                          35.0   \n",
       "\n",
       "                                                                           Number of Open Accounts  \\\n",
       "Customer ID                          Loan ID                                                         \n",
       "923ee454-6911-4f5a-9dfd-ba6b00b92718 0c49cbd6-dd97-4b99-9c05-c63a5d592fde                       16   \n",
       "da041fa4-e423-4eb3-9d81-9ee1fd52f750 8be00956-6b7f-4b74-8398-87c8035605df                       17   \n",
       "f9041857-4e0a-449c-af67-b2fbbd11950b 57359000-1074-44fa-833b-4bea7a0a9d26                       26   \n",
       "304143c6-d619-48f3-9807-61371b47a230 90a7d1b4-3997-414b-9abb-1de8cec79b18                        5   \n",
       "de2c8c55-468c-4b4b-b73f-7907eeb8e096 c2f24b30-bec3-4944-a417-c8d7b377810e                        9   \n",
       "\n",
       "                                                                           Number of Credit Problems  \\\n",
       "Customer ID                          Loan ID                                                           \n",
       "923ee454-6911-4f5a-9dfd-ba6b00b92718 0c49cbd6-dd97-4b99-9c05-c63a5d592fde                          1   \n",
       "da041fa4-e423-4eb3-9d81-9ee1fd52f750 8be00956-6b7f-4b74-8398-87c8035605df                          0   \n",
       "f9041857-4e0a-449c-af67-b2fbbd11950b 57359000-1074-44fa-833b-4bea7a0a9d26                          0   \n",
       "304143c6-d619-48f3-9807-61371b47a230 90a7d1b4-3997-414b-9abb-1de8cec79b18                          0   \n",
       "de2c8c55-468c-4b4b-b73f-7907eeb8e096 c2f24b30-bec3-4944-a417-c8d7b377810e                          0   \n",
       "\n",
       "                                                                           Current Credit Balance  \\\n",
       "Customer ID                          Loan ID                                                        \n",
       "923ee454-6911-4f5a-9dfd-ba6b00b92718 0c49cbd6-dd97-4b99-9c05-c63a5d592fde                    9880   \n",
       "da041fa4-e423-4eb3-9d81-9ee1fd52f750 8be00956-6b7f-4b74-8398-87c8035605df                   26461   \n",
       "f9041857-4e0a-449c-af67-b2fbbd11950b 57359000-1074-44fa-833b-4bea7a0a9d26                   11713   \n",
       "304143c6-d619-48f3-9807-61371b47a230 90a7d1b4-3997-414b-9abb-1de8cec79b18                   16151   \n",
       "de2c8c55-468c-4b4b-b73f-7907eeb8e096 c2f24b30-bec3-4944-a417-c8d7b377810e                   17029   \n",
       "\n",
       "                                                                           Maximum Open Credit  \\\n",
       "Customer ID                          Loan ID                                                     \n",
       "923ee454-6911-4f5a-9dfd-ba6b00b92718 0c49cbd6-dd97-4b99-9c05-c63a5d592fde              14424.0   \n",
       "da041fa4-e423-4eb3-9d81-9ee1fd52f750 8be00956-6b7f-4b74-8398-87c8035605df              42135.0   \n",
       "f9041857-4e0a-449c-af67-b2fbbd11950b 57359000-1074-44fa-833b-4bea7a0a9d26              61005.0   \n",
       "304143c6-d619-48f3-9807-61371b47a230 90a7d1b4-3997-414b-9abb-1de8cec79b18              19227.0   \n",
       "de2c8c55-468c-4b4b-b73f-7907eeb8e096 c2f24b30-bec3-4944-a417-c8d7b377810e              23784.0   \n",
       "\n",
       "                                                                           Bankruptcies  \\\n",
       "Customer ID                          Loan ID                                              \n",
       "923ee454-6911-4f5a-9dfd-ba6b00b92718 0c49cbd6-dd97-4b99-9c05-c63a5d592fde           1.0   \n",
       "da041fa4-e423-4eb3-9d81-9ee1fd52f750 8be00956-6b7f-4b74-8398-87c8035605df           0.0   \n",
       "f9041857-4e0a-449c-af67-b2fbbd11950b 57359000-1074-44fa-833b-4bea7a0a9d26           0.0   \n",
       "304143c6-d619-48f3-9807-61371b47a230 90a7d1b4-3997-414b-9abb-1de8cec79b18           0.0   \n",
       "de2c8c55-468c-4b4b-b73f-7907eeb8e096 c2f24b30-bec3-4944-a417-c8d7b377810e           0.0   \n",
       "\n",
       "                                                                           Tax Liens  \\\n",
       "Customer ID                          Loan ID                                           \n",
       "923ee454-6911-4f5a-9dfd-ba6b00b92718 0c49cbd6-dd97-4b99-9c05-c63a5d592fde        0.0   \n",
       "da041fa4-e423-4eb3-9d81-9ee1fd52f750 8be00956-6b7f-4b74-8398-87c8035605df        0.0   \n",
       "f9041857-4e0a-449c-af67-b2fbbd11950b 57359000-1074-44fa-833b-4bea7a0a9d26        0.0   \n",
       "304143c6-d619-48f3-9807-61371b47a230 90a7d1b4-3997-414b-9abb-1de8cec79b18        0.0   \n",
       "de2c8c55-468c-4b4b-b73f-7907eeb8e096 c2f24b30-bec3-4944-a417-c8d7b377810e        0.0   \n",
       "\n",
       "                                                                           Predicted loan status  \n",
       "Customer ID                          Loan ID                                                      \n",
       "923ee454-6911-4f5a-9dfd-ba6b00b92718 0c49cbd6-dd97-4b99-9c05-c63a5d592fde                      0  \n",
       "da041fa4-e423-4eb3-9d81-9ee1fd52f750 8be00956-6b7f-4b74-8398-87c8035605df                      0  \n",
       "f9041857-4e0a-449c-af67-b2fbbd11950b 57359000-1074-44fa-833b-4bea7a0a9d26                      0  \n",
       "304143c6-d619-48f3-9807-61371b47a230 90a7d1b4-3997-414b-9abb-1de8cec79b18                      0  \n",
       "de2c8c55-468c-4b4b-b73f-7907eeb8e096 c2f24b30-bec3-4944-a417-c8d7b377810e                      0  "
      ]
     },
     "execution_count": 124,
     "metadata": {},
     "output_type": "execute_result"
    }
   ],
   "source": [
    "ttc.head()"
   ]
  },
  {
   "cell_type": "code",
   "execution_count": 125,
   "metadata": {},
   "outputs": [],
   "source": [
    "ttc['Loan Status'] = ttc['Loan Status'].map({0:'Fully Paid',1:'Charged Off'})"
   ]
  },
  {
   "cell_type": "code",
   "execution_count": 126,
   "metadata": {},
   "outputs": [],
   "source": [
    "ttc['Predicted loan status'] = ttc['Predicted loan status'].map({0:'Fully Paid',1:'Charged Off'})"
   ]
  },
  {
   "cell_type": "code",
   "execution_count": 127,
   "metadata": {},
   "outputs": [
    {
     "data": {
      "text/html": [
       "<div>\n",
       "<style scoped>\n",
       "    .dataframe tbody tr th:only-of-type {\n",
       "        vertical-align: middle;\n",
       "    }\n",
       "\n",
       "    .dataframe tbody tr th {\n",
       "        vertical-align: top;\n",
       "    }\n",
       "\n",
       "    .dataframe thead th {\n",
       "        text-align: right;\n",
       "    }\n",
       "</style>\n",
       "<table border=\"1\" class=\"dataframe\">\n",
       "  <thead>\n",
       "    <tr style=\"text-align: right;\">\n",
       "      <th></th>\n",
       "      <th></th>\n",
       "      <th>Loan Status</th>\n",
       "      <th>Current Loan Amount</th>\n",
       "      <th>Term</th>\n",
       "      <th>Credit Score</th>\n",
       "      <th>Years in current job</th>\n",
       "      <th>Home Ownership</th>\n",
       "      <th>Annual Income</th>\n",
       "      <th>Purpose</th>\n",
       "      <th>Monthly Debt</th>\n",
       "      <th>Years of Credit History</th>\n",
       "      <th>Months since last delinquent</th>\n",
       "      <th>Number of Open Accounts</th>\n",
       "      <th>Number of Credit Problems</th>\n",
       "      <th>Current Credit Balance</th>\n",
       "      <th>Maximum Open Credit</th>\n",
       "      <th>Bankruptcies</th>\n",
       "      <th>Tax Liens</th>\n",
       "      <th>Predicted loan status</th>\n",
       "    </tr>\n",
       "    <tr>\n",
       "      <th>Customer ID</th>\n",
       "      <th>Loan ID</th>\n",
       "      <th></th>\n",
       "      <th></th>\n",
       "      <th></th>\n",
       "      <th></th>\n",
       "      <th></th>\n",
       "      <th></th>\n",
       "      <th></th>\n",
       "      <th></th>\n",
       "      <th></th>\n",
       "      <th></th>\n",
       "      <th></th>\n",
       "      <th></th>\n",
       "      <th></th>\n",
       "      <th></th>\n",
       "      <th></th>\n",
       "      <th></th>\n",
       "      <th></th>\n",
       "      <th></th>\n",
       "    </tr>\n",
       "  </thead>\n",
       "  <tbody>\n",
       "    <tr>\n",
       "      <td>923ee454-6911-4f5a-9dfd-ba6b00b92718</td>\n",
       "      <td>0c49cbd6-dd97-4b99-9c05-c63a5d592fde</td>\n",
       "      <td>Fully Paid</td>\n",
       "      <td>99999999</td>\n",
       "      <td>Short Term</td>\n",
       "      <td>728.0</td>\n",
       "      <td>1 year</td>\n",
       "      <td>Home Mortgage</td>\n",
       "      <td>76133.0</td>\n",
       "      <td>Debt Consolidation</td>\n",
       "      <td>1161.02</td>\n",
       "      <td>15.2</td>\n",
       "      <td>32.0</td>\n",
       "      <td>16</td>\n",
       "      <td>1</td>\n",
       "      <td>9880</td>\n",
       "      <td>14424.0</td>\n",
       "      <td>1.0</td>\n",
       "      <td>0.0</td>\n",
       "      <td>Fully Paid</td>\n",
       "    </tr>\n",
       "    <tr>\n",
       "      <td>da041fa4-e423-4eb3-9d81-9ee1fd52f750</td>\n",
       "      <td>8be00956-6b7f-4b74-8398-87c8035605df</td>\n",
       "      <td>Fully Paid</td>\n",
       "      <td>34202</td>\n",
       "      <td>Short Term</td>\n",
       "      <td>724.0</td>\n",
       "      <td>10+ years</td>\n",
       "      <td>Home Mortgage</td>\n",
       "      <td>107492.0</td>\n",
       "      <td>Debt Consolidation</td>\n",
       "      <td>2902.28</td>\n",
       "      <td>17.2</td>\n",
       "      <td>71.0</td>\n",
       "      <td>17</td>\n",
       "      <td>0</td>\n",
       "      <td>26461</td>\n",
       "      <td>42135.0</td>\n",
       "      <td>0.0</td>\n",
       "      <td>0.0</td>\n",
       "      <td>Fully Paid</td>\n",
       "    </tr>\n",
       "    <tr>\n",
       "      <td>f9041857-4e0a-449c-af67-b2fbbd11950b</td>\n",
       "      <td>57359000-1074-44fa-833b-4bea7a0a9d26</td>\n",
       "      <td>Fully Paid</td>\n",
       "      <td>17991</td>\n",
       "      <td>Short Term</td>\n",
       "      <td>743.0</td>\n",
       "      <td>10+ years</td>\n",
       "      <td>Own Home</td>\n",
       "      <td>69965.0</td>\n",
       "      <td>Debt Consolidation</td>\n",
       "      <td>1055.30</td>\n",
       "      <td>36.0</td>\n",
       "      <td>12.0</td>\n",
       "      <td>26</td>\n",
       "      <td>0</td>\n",
       "      <td>11713</td>\n",
       "      <td>61005.0</td>\n",
       "      <td>0.0</td>\n",
       "      <td>0.0</td>\n",
       "      <td>Fully Paid</td>\n",
       "    </tr>\n",
       "    <tr>\n",
       "      <td>304143c6-d619-48f3-9807-61371b47a230</td>\n",
       "      <td>90a7d1b4-3997-414b-9abb-1de8cec79b18</td>\n",
       "      <td>Charged Off</td>\n",
       "      <td>31722</td>\n",
       "      <td>Long Term</td>\n",
       "      <td>686.0</td>\n",
       "      <td>2 years</td>\n",
       "      <td>Rent</td>\n",
       "      <td>72365.0</td>\n",
       "      <td>major_purchase</td>\n",
       "      <td>844.26</td>\n",
       "      <td>11.2</td>\n",
       "      <td>41.0</td>\n",
       "      <td>5</td>\n",
       "      <td>0</td>\n",
       "      <td>16151</td>\n",
       "      <td>19227.0</td>\n",
       "      <td>0.0</td>\n",
       "      <td>0.0</td>\n",
       "      <td>Fully Paid</td>\n",
       "    </tr>\n",
       "    <tr>\n",
       "      <td>de2c8c55-468c-4b4b-b73f-7907eeb8e096</td>\n",
       "      <td>c2f24b30-bec3-4944-a417-c8d7b377810e</td>\n",
       "      <td>Fully Paid</td>\n",
       "      <td>13650</td>\n",
       "      <td>Long Term</td>\n",
       "      <td>719.0</td>\n",
       "      <td>7 years</td>\n",
       "      <td>Home Mortgage</td>\n",
       "      <td>78956.0</td>\n",
       "      <td>Debt Consolidation</td>\n",
       "      <td>520.45</td>\n",
       "      <td>20.4</td>\n",
       "      <td>35.0</td>\n",
       "      <td>9</td>\n",
       "      <td>0</td>\n",
       "      <td>17029</td>\n",
       "      <td>23784.0</td>\n",
       "      <td>0.0</td>\n",
       "      <td>0.0</td>\n",
       "      <td>Fully Paid</td>\n",
       "    </tr>\n",
       "  </tbody>\n",
       "</table>\n",
       "</div>"
      ],
      "text/plain": [
       "                                                                           Loan Status  \\\n",
       "Customer ID                          Loan ID                                             \n",
       "923ee454-6911-4f5a-9dfd-ba6b00b92718 0c49cbd6-dd97-4b99-9c05-c63a5d592fde   Fully Paid   \n",
       "da041fa4-e423-4eb3-9d81-9ee1fd52f750 8be00956-6b7f-4b74-8398-87c8035605df   Fully Paid   \n",
       "f9041857-4e0a-449c-af67-b2fbbd11950b 57359000-1074-44fa-833b-4bea7a0a9d26   Fully Paid   \n",
       "304143c6-d619-48f3-9807-61371b47a230 90a7d1b4-3997-414b-9abb-1de8cec79b18  Charged Off   \n",
       "de2c8c55-468c-4b4b-b73f-7907eeb8e096 c2f24b30-bec3-4944-a417-c8d7b377810e   Fully Paid   \n",
       "\n",
       "                                                                           Current Loan Amount  \\\n",
       "Customer ID                          Loan ID                                                     \n",
       "923ee454-6911-4f5a-9dfd-ba6b00b92718 0c49cbd6-dd97-4b99-9c05-c63a5d592fde             99999999   \n",
       "da041fa4-e423-4eb3-9d81-9ee1fd52f750 8be00956-6b7f-4b74-8398-87c8035605df                34202   \n",
       "f9041857-4e0a-449c-af67-b2fbbd11950b 57359000-1074-44fa-833b-4bea7a0a9d26                17991   \n",
       "304143c6-d619-48f3-9807-61371b47a230 90a7d1b4-3997-414b-9abb-1de8cec79b18                31722   \n",
       "de2c8c55-468c-4b4b-b73f-7907eeb8e096 c2f24b30-bec3-4944-a417-c8d7b377810e                13650   \n",
       "\n",
       "                                                                                 Term  \\\n",
       "Customer ID                          Loan ID                                            \n",
       "923ee454-6911-4f5a-9dfd-ba6b00b92718 0c49cbd6-dd97-4b99-9c05-c63a5d592fde  Short Term   \n",
       "da041fa4-e423-4eb3-9d81-9ee1fd52f750 8be00956-6b7f-4b74-8398-87c8035605df  Short Term   \n",
       "f9041857-4e0a-449c-af67-b2fbbd11950b 57359000-1074-44fa-833b-4bea7a0a9d26  Short Term   \n",
       "304143c6-d619-48f3-9807-61371b47a230 90a7d1b4-3997-414b-9abb-1de8cec79b18   Long Term   \n",
       "de2c8c55-468c-4b4b-b73f-7907eeb8e096 c2f24b30-bec3-4944-a417-c8d7b377810e   Long Term   \n",
       "\n",
       "                                                                           Credit Score  \\\n",
       "Customer ID                          Loan ID                                              \n",
       "923ee454-6911-4f5a-9dfd-ba6b00b92718 0c49cbd6-dd97-4b99-9c05-c63a5d592fde         728.0   \n",
       "da041fa4-e423-4eb3-9d81-9ee1fd52f750 8be00956-6b7f-4b74-8398-87c8035605df         724.0   \n",
       "f9041857-4e0a-449c-af67-b2fbbd11950b 57359000-1074-44fa-833b-4bea7a0a9d26         743.0   \n",
       "304143c6-d619-48f3-9807-61371b47a230 90a7d1b4-3997-414b-9abb-1de8cec79b18         686.0   \n",
       "de2c8c55-468c-4b4b-b73f-7907eeb8e096 c2f24b30-bec3-4944-a417-c8d7b377810e         719.0   \n",
       "\n",
       "                                                                          Years in current job  \\\n",
       "Customer ID                          Loan ID                                                     \n",
       "923ee454-6911-4f5a-9dfd-ba6b00b92718 0c49cbd6-dd97-4b99-9c05-c63a5d592fde               1 year   \n",
       "da041fa4-e423-4eb3-9d81-9ee1fd52f750 8be00956-6b7f-4b74-8398-87c8035605df            10+ years   \n",
       "f9041857-4e0a-449c-af67-b2fbbd11950b 57359000-1074-44fa-833b-4bea7a0a9d26            10+ years   \n",
       "304143c6-d619-48f3-9807-61371b47a230 90a7d1b4-3997-414b-9abb-1de8cec79b18              2 years   \n",
       "de2c8c55-468c-4b4b-b73f-7907eeb8e096 c2f24b30-bec3-4944-a417-c8d7b377810e              7 years   \n",
       "\n",
       "                                                                          Home Ownership  \\\n",
       "Customer ID                          Loan ID                                               \n",
       "923ee454-6911-4f5a-9dfd-ba6b00b92718 0c49cbd6-dd97-4b99-9c05-c63a5d592fde  Home Mortgage   \n",
       "da041fa4-e423-4eb3-9d81-9ee1fd52f750 8be00956-6b7f-4b74-8398-87c8035605df  Home Mortgage   \n",
       "f9041857-4e0a-449c-af67-b2fbbd11950b 57359000-1074-44fa-833b-4bea7a0a9d26       Own Home   \n",
       "304143c6-d619-48f3-9807-61371b47a230 90a7d1b4-3997-414b-9abb-1de8cec79b18           Rent   \n",
       "de2c8c55-468c-4b4b-b73f-7907eeb8e096 c2f24b30-bec3-4944-a417-c8d7b377810e  Home Mortgage   \n",
       "\n",
       "                                                                           Annual Income  \\\n",
       "Customer ID                          Loan ID                                               \n",
       "923ee454-6911-4f5a-9dfd-ba6b00b92718 0c49cbd6-dd97-4b99-9c05-c63a5d592fde        76133.0   \n",
       "da041fa4-e423-4eb3-9d81-9ee1fd52f750 8be00956-6b7f-4b74-8398-87c8035605df       107492.0   \n",
       "f9041857-4e0a-449c-af67-b2fbbd11950b 57359000-1074-44fa-833b-4bea7a0a9d26        69965.0   \n",
       "304143c6-d619-48f3-9807-61371b47a230 90a7d1b4-3997-414b-9abb-1de8cec79b18        72365.0   \n",
       "de2c8c55-468c-4b4b-b73f-7907eeb8e096 c2f24b30-bec3-4944-a417-c8d7b377810e        78956.0   \n",
       "\n",
       "                                                                                      Purpose  \\\n",
       "Customer ID                          Loan ID                                                    \n",
       "923ee454-6911-4f5a-9dfd-ba6b00b92718 0c49cbd6-dd97-4b99-9c05-c63a5d592fde  Debt Consolidation   \n",
       "da041fa4-e423-4eb3-9d81-9ee1fd52f750 8be00956-6b7f-4b74-8398-87c8035605df  Debt Consolidation   \n",
       "f9041857-4e0a-449c-af67-b2fbbd11950b 57359000-1074-44fa-833b-4bea7a0a9d26  Debt Consolidation   \n",
       "304143c6-d619-48f3-9807-61371b47a230 90a7d1b4-3997-414b-9abb-1de8cec79b18      major_purchase   \n",
       "de2c8c55-468c-4b4b-b73f-7907eeb8e096 c2f24b30-bec3-4944-a417-c8d7b377810e  Debt Consolidation   \n",
       "\n",
       "                                                                           Monthly Debt  \\\n",
       "Customer ID                          Loan ID                                              \n",
       "923ee454-6911-4f5a-9dfd-ba6b00b92718 0c49cbd6-dd97-4b99-9c05-c63a5d592fde       1161.02   \n",
       "da041fa4-e423-4eb3-9d81-9ee1fd52f750 8be00956-6b7f-4b74-8398-87c8035605df       2902.28   \n",
       "f9041857-4e0a-449c-af67-b2fbbd11950b 57359000-1074-44fa-833b-4bea7a0a9d26       1055.30   \n",
       "304143c6-d619-48f3-9807-61371b47a230 90a7d1b4-3997-414b-9abb-1de8cec79b18        844.26   \n",
       "de2c8c55-468c-4b4b-b73f-7907eeb8e096 c2f24b30-bec3-4944-a417-c8d7b377810e        520.45   \n",
       "\n",
       "                                                                           Years of Credit History  \\\n",
       "Customer ID                          Loan ID                                                         \n",
       "923ee454-6911-4f5a-9dfd-ba6b00b92718 0c49cbd6-dd97-4b99-9c05-c63a5d592fde                     15.2   \n",
       "da041fa4-e423-4eb3-9d81-9ee1fd52f750 8be00956-6b7f-4b74-8398-87c8035605df                     17.2   \n",
       "f9041857-4e0a-449c-af67-b2fbbd11950b 57359000-1074-44fa-833b-4bea7a0a9d26                     36.0   \n",
       "304143c6-d619-48f3-9807-61371b47a230 90a7d1b4-3997-414b-9abb-1de8cec79b18                     11.2   \n",
       "de2c8c55-468c-4b4b-b73f-7907eeb8e096 c2f24b30-bec3-4944-a417-c8d7b377810e                     20.4   \n",
       "\n",
       "                                                                           Months since last delinquent  \\\n",
       "Customer ID                          Loan ID                                                              \n",
       "923ee454-6911-4f5a-9dfd-ba6b00b92718 0c49cbd6-dd97-4b99-9c05-c63a5d592fde                          32.0   \n",
       "da041fa4-e423-4eb3-9d81-9ee1fd52f750 8be00956-6b7f-4b74-8398-87c8035605df                          71.0   \n",
       "f9041857-4e0a-449c-af67-b2fbbd11950b 57359000-1074-44fa-833b-4bea7a0a9d26                          12.0   \n",
       "304143c6-d619-48f3-9807-61371b47a230 90a7d1b4-3997-414b-9abb-1de8cec79b18                          41.0   \n",
       "de2c8c55-468c-4b4b-b73f-7907eeb8e096 c2f24b30-bec3-4944-a417-c8d7b377810e                          35.0   \n",
       "\n",
       "                                                                           Number of Open Accounts  \\\n",
       "Customer ID                          Loan ID                                                         \n",
       "923ee454-6911-4f5a-9dfd-ba6b00b92718 0c49cbd6-dd97-4b99-9c05-c63a5d592fde                       16   \n",
       "da041fa4-e423-4eb3-9d81-9ee1fd52f750 8be00956-6b7f-4b74-8398-87c8035605df                       17   \n",
       "f9041857-4e0a-449c-af67-b2fbbd11950b 57359000-1074-44fa-833b-4bea7a0a9d26                       26   \n",
       "304143c6-d619-48f3-9807-61371b47a230 90a7d1b4-3997-414b-9abb-1de8cec79b18                        5   \n",
       "de2c8c55-468c-4b4b-b73f-7907eeb8e096 c2f24b30-bec3-4944-a417-c8d7b377810e                        9   \n",
       "\n",
       "                                                                           Number of Credit Problems  \\\n",
       "Customer ID                          Loan ID                                                           \n",
       "923ee454-6911-4f5a-9dfd-ba6b00b92718 0c49cbd6-dd97-4b99-9c05-c63a5d592fde                          1   \n",
       "da041fa4-e423-4eb3-9d81-9ee1fd52f750 8be00956-6b7f-4b74-8398-87c8035605df                          0   \n",
       "f9041857-4e0a-449c-af67-b2fbbd11950b 57359000-1074-44fa-833b-4bea7a0a9d26                          0   \n",
       "304143c6-d619-48f3-9807-61371b47a230 90a7d1b4-3997-414b-9abb-1de8cec79b18                          0   \n",
       "de2c8c55-468c-4b4b-b73f-7907eeb8e096 c2f24b30-bec3-4944-a417-c8d7b377810e                          0   \n",
       "\n",
       "                                                                           Current Credit Balance  \\\n",
       "Customer ID                          Loan ID                                                        \n",
       "923ee454-6911-4f5a-9dfd-ba6b00b92718 0c49cbd6-dd97-4b99-9c05-c63a5d592fde                    9880   \n",
       "da041fa4-e423-4eb3-9d81-9ee1fd52f750 8be00956-6b7f-4b74-8398-87c8035605df                   26461   \n",
       "f9041857-4e0a-449c-af67-b2fbbd11950b 57359000-1074-44fa-833b-4bea7a0a9d26                   11713   \n",
       "304143c6-d619-48f3-9807-61371b47a230 90a7d1b4-3997-414b-9abb-1de8cec79b18                   16151   \n",
       "de2c8c55-468c-4b4b-b73f-7907eeb8e096 c2f24b30-bec3-4944-a417-c8d7b377810e                   17029   \n",
       "\n",
       "                                                                           Maximum Open Credit  \\\n",
       "Customer ID                          Loan ID                                                     \n",
       "923ee454-6911-4f5a-9dfd-ba6b00b92718 0c49cbd6-dd97-4b99-9c05-c63a5d592fde              14424.0   \n",
       "da041fa4-e423-4eb3-9d81-9ee1fd52f750 8be00956-6b7f-4b74-8398-87c8035605df              42135.0   \n",
       "f9041857-4e0a-449c-af67-b2fbbd11950b 57359000-1074-44fa-833b-4bea7a0a9d26              61005.0   \n",
       "304143c6-d619-48f3-9807-61371b47a230 90a7d1b4-3997-414b-9abb-1de8cec79b18              19227.0   \n",
       "de2c8c55-468c-4b4b-b73f-7907eeb8e096 c2f24b30-bec3-4944-a417-c8d7b377810e              23784.0   \n",
       "\n",
       "                                                                           Bankruptcies  \\\n",
       "Customer ID                          Loan ID                                              \n",
       "923ee454-6911-4f5a-9dfd-ba6b00b92718 0c49cbd6-dd97-4b99-9c05-c63a5d592fde           1.0   \n",
       "da041fa4-e423-4eb3-9d81-9ee1fd52f750 8be00956-6b7f-4b74-8398-87c8035605df           0.0   \n",
       "f9041857-4e0a-449c-af67-b2fbbd11950b 57359000-1074-44fa-833b-4bea7a0a9d26           0.0   \n",
       "304143c6-d619-48f3-9807-61371b47a230 90a7d1b4-3997-414b-9abb-1de8cec79b18           0.0   \n",
       "de2c8c55-468c-4b4b-b73f-7907eeb8e096 c2f24b30-bec3-4944-a417-c8d7b377810e           0.0   \n",
       "\n",
       "                                                                           Tax Liens  \\\n",
       "Customer ID                          Loan ID                                           \n",
       "923ee454-6911-4f5a-9dfd-ba6b00b92718 0c49cbd6-dd97-4b99-9c05-c63a5d592fde        0.0   \n",
       "da041fa4-e423-4eb3-9d81-9ee1fd52f750 8be00956-6b7f-4b74-8398-87c8035605df        0.0   \n",
       "f9041857-4e0a-449c-af67-b2fbbd11950b 57359000-1074-44fa-833b-4bea7a0a9d26        0.0   \n",
       "304143c6-d619-48f3-9807-61371b47a230 90a7d1b4-3997-414b-9abb-1de8cec79b18        0.0   \n",
       "de2c8c55-468c-4b4b-b73f-7907eeb8e096 c2f24b30-bec3-4944-a417-c8d7b377810e        0.0   \n",
       "\n",
       "                                                                          Predicted loan status  \n",
       "Customer ID                          Loan ID                                                     \n",
       "923ee454-6911-4f5a-9dfd-ba6b00b92718 0c49cbd6-dd97-4b99-9c05-c63a5d592fde            Fully Paid  \n",
       "da041fa4-e423-4eb3-9d81-9ee1fd52f750 8be00956-6b7f-4b74-8398-87c8035605df            Fully Paid  \n",
       "f9041857-4e0a-449c-af67-b2fbbd11950b 57359000-1074-44fa-833b-4bea7a0a9d26            Fully Paid  \n",
       "304143c6-d619-48f3-9807-61371b47a230 90a7d1b4-3997-414b-9abb-1de8cec79b18            Fully Paid  \n",
       "de2c8c55-468c-4b4b-b73f-7907eeb8e096 c2f24b30-bec3-4944-a417-c8d7b377810e            Fully Paid  "
      ]
     },
     "execution_count": 127,
     "metadata": {},
     "output_type": "execute_result"
    }
   ],
   "source": [
    "ttc.head()"
   ]
  },
  {
   "cell_type": "code",
   "execution_count": 130,
   "metadata": {},
   "outputs": [],
   "source": [
    "ttc.to_csv('ttc.csv',index=True)"
   ]
  },
  {
   "cell_type": "code",
   "execution_count": null,
   "metadata": {},
   "outputs": [],
   "source": []
  },
  {
   "cell_type": "code",
   "execution_count": null,
   "metadata": {},
   "outputs": [],
   "source": []
  },
  {
   "cell_type": "code",
   "execution_count": null,
   "metadata": {},
   "outputs": [],
   "source": []
  },
  {
   "cell_type": "code",
   "execution_count": null,
   "metadata": {},
   "outputs": [],
   "source": []
  },
  {
   "cell_type": "code",
   "execution_count": null,
   "metadata": {},
   "outputs": [],
   "source": []
  },
  {
   "cell_type": "code",
   "execution_count": null,
   "metadata": {},
   "outputs": [],
   "source": []
  }
 ],
 "metadata": {
  "kernelspec": {
   "display_name": "Python 3",
   "language": "python",
   "name": "python3"
  },
  "language_info": {
   "codemirror_mode": {
    "name": "ipython",
    "version": 3
   },
   "file_extension": ".py",
   "mimetype": "text/x-python",
   "name": "python",
   "nbconvert_exporter": "python",
   "pygments_lexer": "ipython3",
   "version": "3.7.4"
  }
 },
 "nbformat": 4,
 "nbformat_minor": 2
}
